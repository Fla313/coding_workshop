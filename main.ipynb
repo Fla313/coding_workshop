{
 "cells": [
  {
   "cell_type": "code",
   "execution_count": 1,
   "metadata": {},
   "outputs": [],
   "source": [
    "import json"
   ]
  },
  {
   "cell_type": "markdown",
   "metadata": {},
   "source": [
    "Teil 1: Person, Student, Dozent"
   ]
  },
  {
   "cell_type": "code",
   "execution_count": 2,
   "metadata": {},
   "outputs": [],
   "source": [
    "class Person:\n",
    "    \"\"\"Erstellt eine Klasse von Personen\n",
    "    \"\"\"\n",
    "    def __init__(self, name: str) -> None:\n",
    "        \"\"\"Initialisiert die Klasse\n",
    "\n",
    "        Args:\n",
    "            name (str): Name der Person\n",
    "        \"\"\"\n",
    "        self.name = name\n",
    "    \n",
    "    def vorstellen(self) -> None:\n",
    "        \"\"\"Person stellt sich vor\n",
    "        \"\"\"\n",
    "        print(f\"Hallo, mein Name ist {self.name}\")"
   ]
  },
  {
   "cell_type": "code",
   "execution_count": 3,
   "metadata": {},
   "outputs": [],
   "source": [
    "class Dozent(Person):\n",
    "    \"\"\"_summary_\n",
    "\n",
    "    Args:\n",
    "        Person (_type_): _description_\n",
    "\n",
    "    Returns:\n",
    "        _type_: _description_\n",
    "    \"\"\"\n",
    "    dozenten_liste = []\n",
    "    \n",
    "    def __init__(self, name: str, fertigkeit: list, bio: str) -> None:\n",
    "        super().__init__(name)\n",
    "        self.fertigkeit = [fertigkeit]\n",
    "        self.bio = bio\n",
    "        Dozent.dozenten_liste.append(name)\n",
    "    \n",
    "    def __str__(self) -> str:\n",
    "        return self.name\n",
    "    \n",
    "    def add_skill(self, neu: str) -> None:\n",
    "        self.fertigkeit.append(neu)"
   ]
  },
  {
   "cell_type": "code",
   "execution_count": 4,
   "metadata": {},
   "outputs": [],
   "source": [
    "class Student(Person):\n",
    "    studenten_liste = []\n",
    "    \n",
    "    def __init__(self, name: str, grund: str) -> None:\n",
    "        super().__init__(name)\n",
    "        self.grund = grund\n",
    "        Student.studenten_liste.append(name)\n",
    "        \n",
    "    \n",
    "    def __str__(self) -> str:\n",
    "        return self.name"
   ]
  },
  {
   "cell_type": "markdown",
   "metadata": {},
   "source": [
    "Teil 2: Workshop"
   ]
  },
  {
   "cell_type": "code",
   "execution_count": 5,
   "metadata": {},
   "outputs": [],
   "source": [
    "class Workshops:\n",
    "    def __init__(self, thema: str, startdatum: str, enddatum: str) -> None:\n",
    "        self.thema = thema\n",
    "        self.startdatum = startdatum\n",
    "        self.enddatum = enddatum\n",
    "        self.anzahl_studenten = 0\n",
    "        self.anzahl_dozenten = 0\n",
    "        self.studentenname = []\n",
    "        self.studentengrund = []\n",
    "        self.dozentenname = []\n",
    "        self.dozentenfertigkeit = []\n",
    "        self.dozentenbio = []\n",
    "    \n",
    "    def __str__(self) -> str:\n",
    "        return f\"Workshop: {self.thema}\\nStartdatum: {self.startdatum}\\nEnddatum: {self.enddatum}\\n\"\n",
    "                 \n",
    "\n",
    "    def add_patricipants(self, personalie):\n",
    "        if isinstance(personalie, Person):\n",
    "            if isinstance(personalie, Student):\n",
    "                if personalie.name in self.studentenname:\n",
    "                    print(\"Der Teilnehmer ist bereits im Workshop\")\n",
    "                else: \n",
    "                    self.studentenname.append(personalie.name)\n",
    "                    self.studentengrund.append(personalie.grund)\n",
    "                    self.anzahl_studenten += 1\n",
    "                    print(f\"Teilnehmer {personalie.name} erfolgreich dem Workshop hinzugefügt\")\n",
    "            else:\n",
    "                if personalie.name in self.dozentenname:\n",
    "                    print(\"Der Dozent ist bereits im Workshop\")\n",
    "                else:\n",
    "                    self.dozentenname.append(personalie.name)\n",
    "                    self.dozentenfertigkeit.append(personalie.fertigkeit)\n",
    "                    self.dozentenbio.append(personalie.bio)\n",
    "                    self.anzahl_dozenten += 1\n",
    "                    print(f\"Dozent {personalie.name} erfolgreich dem Workshop hinzugefügt\")\n",
    "\n",
    "        else:\n",
    "            print(\"Person ist nicht definiert\")"
   ]
  },
  {
   "cell_type": "code",
   "execution_count": 6,
   "metadata": {},
   "outputs": [],
   "source": [
    "dozent1 = Dozent(\"Tim\", \"Python\", \"Ich liebe coden und mache das schons sehr lange\")\n",
    "student1 = Student(\"Jerremy\", \"ist gerade cool\")\n",
    "workshop1 = Workshops(\"Python\", \"28.09.2023\", \"01.10.2023\")"
   ]
  },
  {
   "cell_type": "code",
   "execution_count": 7,
   "metadata": {},
   "outputs": [
    {
     "name": "stdout",
     "output_type": "stream",
     "text": [
      "Teilnehmer Jerremy erfolgreich dem Workshop hinzugefügt\n",
      "Dozent Tim erfolgreich dem Workshop hinzugefügt\n"
     ]
    }
   ],
   "source": [
    "workshop1.add_patricipants(student1)\n",
    "workshop1.add_patricipants(dozent1)"
   ]
  },
  {
   "cell_type": "code",
   "execution_count": 12,
   "metadata": {},
   "outputs": [],
   "source": [
    "dozent2 = Dozent(\"Phil\", \"C+\", \"Ich vermittel gerne Stoff\")"
   ]
  },
  {
   "cell_type": "code",
   "execution_count": 13,
   "metadata": {},
   "outputs": [
    {
     "name": "stdout",
     "output_type": "stream",
     "text": [
      "Dozent Phil erfolgreich dem Workshop hinzugefügt\n"
     ]
    }
   ],
   "source": [
    "workshop1.add_patricipants(dozent2)"
   ]
  },
  {
   "cell_type": "markdown",
   "metadata": {},
   "source": [
    "Teil 3: Funktionen außerhalb der Klassen"
   ]
  },
  {
   "cell_type": "code",
   "execution_count": 8,
   "metadata": {},
   "outputs": [],
   "source": [
    "def print_members(workshop: Workshops, dateiname: str):\n",
    "    \"\"\"Speichert Infos zu Studenten und Dozenten des Workshops in einer JSON Datei ab\n",
    "\n",
    "    Args:\n",
    "        workshop (Workshops): Infos von welchem Workshop\n",
    "        dateiname (str): Wie soll die Datei heißen\n",
    "    \"\"\"\n",
    "    for i in range(len(workshop.studentenname)):\n",
    "        studenten_info = {\"Name\": workshop.studentenname[i],\n",
    "                        \"Grund\": workshop.studentengrund[i]}\n",
    "    \n",
    "    for i in range(len(workshop.dozentenname)):\n",
    "        dozenten_info = {\"Name\": workshop.dozentenname[i],\n",
    "                         \"Fertigkeit\": workshop.dozentenfertigkeit[i],\n",
    "                         \"Biografie\": workshop.dozentenbio[i]}\n",
    "        \n",
    "    members_info = {\"Studenten\": studenten_info,\n",
    "                    \"Dozenten\": dozenten_info}\n",
    "    \n",
    "    with open(dateiname, \"w\") as writer:\n",
    "        json.dump(members_info, writer, indent=4)\n"
   ]
  },
  {
   "cell_type": "code",
   "execution_count": 9,
   "metadata": {},
   "outputs": [],
   "source": [
    "def print_workshops(workshop: Workshops, dateiname: str):\n",
    "    workshop_info = {\"Thema\": workshop.thema,\n",
    "                     \"Startdatum\": workshop.startdatum,\n",
    "                     \"Enddatum\": workshop.enddatum,\n",
    "                     \"Anzahl Teilnehmer\": workshop.anzahl_studenten,\n",
    "                     \"Namen der Teilnehmer\": workshop.studentenname,\n",
    "                     \"Anzahl Dozenten\": workshop.anzahl_dozenten,\n",
    "                     \"Name(n) der Dozenten\": workshop.dozentenname}\n",
    "    \n",
    "    with open(dateiname, \"w\") as writer:\n",
    "        json.dump(workshop_info, writer, indent=4)"
   ]
  },
  {
   "cell_type": "code",
   "execution_count": 10,
   "metadata": {},
   "outputs": [],
   "source": [
    "def print_details(workshop: Workshops, dateiname_members: str, dateiname_workshops: str):\n",
    "    print_members(workshop, dateiname_members)\n",
    "    print_workshops(workshop, dateiname_workshops)"
   ]
  },
  {
   "cell_type": "code",
   "execution_count": 14,
   "metadata": {},
   "outputs": [],
   "source": [
    "print_details(workshop1, \"members.json\", \"workshop.json\")"
   ]
  }
 ],
 "metadata": {
  "kernelspec": {
   "display_name": "Python 3",
   "language": "python",
   "name": "python3"
  },
  "language_info": {
   "codemirror_mode": {
    "name": "ipython",
    "version": 3
   },
   "file_extension": ".py",
   "mimetype": "text/x-python",
   "name": "python",
   "nbconvert_exporter": "python",
   "pygments_lexer": "ipython3",
   "version": "3.9.17"
  },
  "orig_nbformat": 4
 },
 "nbformat": 4,
 "nbformat_minor": 2
}
